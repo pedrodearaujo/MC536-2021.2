{
 "cells": [
  {
   "cell_type": "code",
   "execution_count": 7,
   "metadata": {},
   "outputs": [],
   "source": [
    "%defaultDatasource jdbc:h2:mem:db"
   ]
  },
  {
   "cell_type": "markdown",
   "metadata": {},
   "source": [
    "# Analisando o Uso de Medicamentos\n",
    "* Esta tarefa analisará os dados conforme três abordagens: análise do comportamento estatístico; análise de correlação entre pares; análise de correlação de variáveis.\n",
    "* A partir dos arquivos CSV que estão no diretórios /data/nhanes considere as seguintes tabelas SQL."
   ]
  },
  {
   "cell_type": "code",
   "execution_count": 8,
   "metadata": {},
   "outputs": [],
   "source": [
    "DROP Table IF EXISTS Person;\n",
    "DROP Table IF EXISTS Drug;\n",
    "DROP Table IF EXISTS DrugUse;"
   ]
  },
  {
   "cell_type": "code",
   "execution_count": 9,
   "metadata": {},
   "outputs": [],
   "source": [
    "CREATE TABLE Person (\n",
    "  Id VARCHAR(5) NOT NULL,\n",
    "  Gender INTEGER,\n",
    "  Age INTEGER,\n",
    "  PRIMARY KEY(Id)\n",
    ") AS SELECT\n",
    "    id,\n",
    "    gender,\n",
    "    age\n",
    "FROM CSVREAD('../data/demographic-person.csv');\n",
    "\n",
    "CREATE TABLE Drug (\n",
    "  Code VARCHAR(6) NOT NULL,\n",
    "  Name VARCHAR(100) NOT NULL,\n",
    "  PRIMARY KEY(Code)\n",
    ") AS SELECT\n",
    "    code,\n",
    "    name\n",
    "FROM CSVREAD('../data/medications-drug.csv');\n",
    "\n",
    "CREATE TABLE DrugUse (\n",
    "  PersonId VARCHAR(5) NOT NULL,\n",
    "  DrugCode VARCHAR(6) NOT NULL,\n",
    "  DaysUse INTEGER,\n",
    "  FOREIGN KEY(PersonId)\n",
    "    REFERENCES Person(Id)\n",
    "      ON DELETE NO ACTION\n",
    "      ON UPDATE NO ACTION,\n",
    "  FOREIGN KEY(DrugCode)\n",
    "    REFERENCES Drug(Code)\n",
    "      ON DELETE NO ACTION\n",
    "      ON UPDATE NO ACTION\n",
    ") AS SELECT\n",
    "    person_id,\n",
    "    drug_code,\n",
    "    days_use\n",
    "FROM CSVREAD('../data/medications-use.csv');"
   ]
  },
  {
   "cell_type": "code",
   "execution_count": 10,
   "metadata": {},
   "outputs": [
    {
     "data": {
      "application/vnd.jupyter.widget-view+json": {
       "model_id": "b6e138ab-92b1-467b-a2e7-75e9fb9be74a",
       "version_major": 2,
       "version_minor": 0
      },
      "method": "display_data"
     },
     "metadata": {},
     "output_type": "display_data"
    }
   ],
   "source": [
    "SELECT * FROM Person;"
   ]
  },
  {
   "cell_type": "code",
   "execution_count": 11,
   "metadata": {},
   "outputs": [
    {
     "data": {
      "application/vnd.jupyter.widget-view+json": {
       "model_id": "a47ff874-f4cc-4c15-be98-0f7e435b6fb2",
       "version_major": 2,
       "version_minor": 0
      },
      "method": "display_data"
     },
     "metadata": {},
     "output_type": "display_data"
    }
   ],
   "source": [
    "SELECT * FROM Drug;"
   ]
  },
  {
   "cell_type": "code",
   "execution_count": 12,
   "metadata": {},
   "outputs": [
    {
     "data": {
      "application/vnd.jupyter.widget-view+json": {
       "model_id": "0d53478e-1c04-4c7d-a4a3-6b21c2c30bb4",
       "version_major": 2,
       "version_minor": 0
      },
      "method": "display_data"
     },
     "metadata": {},
     "output_type": "display_data"
    }
   ],
   "source": [
    "SELECT * FROM DrugUse"
   ]
  },
  {
   "cell_type": "markdown",
   "metadata": {},
   "source": [
    "# I. Análise de comportamento estatístico"
   ]
  },
  {
   "cell_type": "markdown",
   "metadata": {},
   "source": [
    "## 1) Contabilizando o uso de medicamentos\n",
    "\n",
    "* Liste o nome de todos os medicamentos e a quantidade de pessoas que usa cada um deles."
   ]
  },
  {
   "cell_type": "code",
   "execution_count": 13,
   "metadata": {},
   "outputs": [
    {
     "data": {
      "application/vnd.jupyter.widget-view+json": {
       "model_id": "fda8e1c4-095e-4bf1-b634-e392a4091afe",
       "version_major": 2,
       "version_minor": 0
      },
      "method": "display_data"
     },
     "metadata": {},
     "output_type": "display_data"
    }
   ],
   "source": [
    "SELECT D.Name, COUNT(*) \n",
    "    FROM Drug D, DrugUse U\n",
    "        WHERE D.Code = U.DrugCode\n",
    "            GROUP BY D.Name;\n",
    "        "
   ]
  },
  {
   "cell_type": "markdown",
   "metadata": {},
   "source": [
    "## 2) Medicamento mais usado com VIEW\n",
    "\n",
    "* Informe o código do medicamento mais usado: fazendo uso de VIEW."
   ]
  },
  {
   "cell_type": "code",
   "execution_count": 14,
   "metadata": {},
   "outputs": [
    {
     "data": {
      "text/plain": [
       "d00732"
      ]
     },
     "execution_count": 14,
     "metadata": {},
     "output_type": "execute_result"
    }
   ],
   "source": [
    "CREATE VIEW ContagemMedicamentos AS\n",
    "    SELECT DrugCode, COUNT(*) NumeroPessoas\n",
    "        FROM DrugUse\n",
    "        GROUP BY DrugCode;\n",
    "        \n",
    "CREATE VIEW MaisUsado AS\n",
    "    SELECT MAX(NumeroPessoas) Numero \n",
    "        FROM ContagemMedicamentos;\n",
    "                \n",
    "SELECT C.DrugCode FROM ContagemMedicamentos C, MaisUsado M\n",
    "    WHERE C.NumeroPessoas = M.Numero;"
   ]
  },
  {
   "cell_type": "markdown",
   "metadata": {},
   "source": [
    "## 3) Medicamento mais usado sem VIEW\n",
    "\n",
    "* Informe o código do medicamento mais usado: sem fazer uso de VIEW."
   ]
  },
  {
   "cell_type": "code",
   "execution_count": 15,
   "metadata": {},
   "outputs": [
    {
     "data": {
      "text/plain": [
       "d00732"
      ]
     },
     "execution_count": 15,
     "metadata": {},
     "output_type": "execute_result"
    }
   ],
   "source": [
    "SELECT DrugCode FROM (\n",
    "    SELECT DrugCode, COUNT(*) NumeroPessoas\n",
    "        FROM DrugUse\n",
    "        GROUP BY DrugCode\n",
    ") WHERE NumeroPessoas = SELECT MaiorNumero FROM (\n",
    "        SELECT MAX(NumeroPessoas) MaiorNumero FROM (\n",
    "            SELECT DrugCode, COUNT(*) NumeroPessoas\n",
    "                FROM DrugUse\n",
    "                GROUP BY DrugCode\n",
    "        )  \n",
    "    );"
   ]
  },
  {
   "cell_type": "markdown",
   "metadata": {},
   "source": [
    "## 4) Nome do medicamento mais usado\n",
    "* Informe o nome do medicamento mais usado (uso de VIEW é opcional)."
   ]
  },
  {
   "cell_type": "code",
   "execution_count": 16,
   "metadata": {},
   "outputs": [
    {
     "data": {
      "text/plain": [
       "LISINOPRIL"
      ]
     },
     "execution_count": 16,
     "metadata": {},
     "output_type": "execute_result"
    }
   ],
   "source": [
    "CREATE VIEW MedicamentoMaisUsado AS\n",
    "    SELECT MAX(NumeroPessoas) Numero \n",
    "        FROM ContagemMedicamentos;\n",
    "                \n",
    "CREATE VIEW MaisUsadoCode AS \n",
    "    SELECT C.DrugCode MaisCode \n",
    "        FROM ContagemMedicamentos C, MedicamentoMaisUsado M\n",
    "            WHERE C.NumeroPessoas = M.Numero;\n",
    "            \n",
    "SELECT D.Name \n",
    "    FROM Drug D, MaisUsadoCode C\n",
    "        WHERE D.Code = C.MaisCode;            "
   ]
  },
  {
   "cell_type": "markdown",
   "metadata": {},
   "source": [
    "## 5) Contabilizando quanto as pessoas usam de medicamento\n",
    "\n",
    "* Informe o número médio de uso de medicamento por pessoa."
   ]
  },
  {
   "cell_type": "code",
   "execution_count": 17,
   "metadata": {},
   "outputs": [
    {
     "data": {
      "text/plain": [
       "3"
      ]
     },
     "execution_count": 17,
     "metadata": {},
     "output_type": "execute_result"
    }
   ],
   "source": [
    "CREATE VIEW ContagemPessoaMedicamento AS\n",
    "    SELECT PersonId, COUNT(*) NumeroRemedios\n",
    "        FROM DrugUse\n",
    "        GROUP BY PersonId;\n",
    "                        \n",
    "CREATE VIEW UsoMedio AS\n",
    "    SELECT AVG(NumeroRemedios) Media \n",
    "        FROM ContagemPessoaMedicamento;\n",
    "        \n",
    "SELECT Media FROM UsoMedio;        "
   ]
  },
  {
   "cell_type": "markdown",
   "metadata": {},
   "source": [
    "## 6) Pessoas que usam mais do que a média\n",
    "\n",
    "* Liste o id das pessoas que usam mais medicamentos do que a média."
   ]
  },
  {
   "cell_type": "code",
   "execution_count": 19,
   "metadata": {},
   "outputs": [
    {
     "data": {
      "application/vnd.jupyter.widget-view+json": {
       "model_id": "6d748f57-78e7-4010-99e5-9ac2bc5286d3",
       "version_major": 2,
       "version_minor": 0
      },
      "method": "display_data"
     },
     "metadata": {},
     "output_type": "display_data"
    }
   ],
   "source": [
    "SELECT P.PersonId \n",
    "    FROM ContagemPessoaMedicamento P, UsoMedio M\n",
    "    WHERE P.NumeroRemedios > M.Media;"
   ]
  },
  {
   "cell_type": "markdown",
   "metadata": {},
   "source": [
    "## 7) Análise do uso de medicamento\n",
    "\n",
    "* Considere que um médico quer fazer responder a seguinte questão: pessoas tendem a usar mais medicamentos conforme ficam mais velhas?\n",
    "* Escreva uma query que ajude o médico a realizar esta análise."
   ]
  },
  {
   "cell_type": "code",
   "execution_count": 11,
   "metadata": {},
   "outputs": [
    {
     "data": {
      "application/vnd.jupyter.widget-view+json": {
       "model_id": "5c18aac2-c9c9-497b-ab0e-a1e58a54bce5",
       "version_major": 2,
       "version_minor": 0
      },
      "method": "display_data"
     },
     "metadata": {},
     "output_type": "display_data"
    }
   ],
   "source": [
    "CREATE VIEW UsoIdade AS \n",
    "    SELECT P.Age, C.NumeroRemedios \n",
    "        FROM ContagemPessoaMedicamento C, Person P\n",
    "            WHERE P.Id = C.PersonId;        \n",
    "                \n",
    "SELECT Age, AVG(NumeroRemedios)\n",
    "    FROM UsoIdade\n",
    "    GROUP BY Age;\n"
   ]
  },
  {
   "cell_type": "markdown",
   "metadata": {},
   "source": [
    "# Navegando por Hierarquias\n",
    "\n",
    "A seguir exercícios envolvendo navegação por hierarquias."
   ]
  },
  {
   "cell_type": "markdown",
   "metadata": {},
   "source": [
    "# Marcadores e Taxonomia\n",
    "\n",
    "Considere o modelo para `Marcadores` e `Taxonomia`:\n",
    "\n",
    "![UML](marcadores-taxonomia-uml.png)\n",
    "\n",
    "![Relacional](marcadores-taxonomia-er.png)\n",
    "\n",
    "Considere as sentenças SQL a seguir para montar as tabelas de `Marcadores` e `Taxonomia`:"
   ]
  },
  {
   "cell_type": "code",
   "execution_count": null,
   "metadata": {},
   "outputs": [],
   "source": [
    "DROP TABLE IF EXISTS Taxonomia;\n",
    "DROP TABLE IF EXISTS Marcadores;\n",
    "\n",
    "CREATE TABLE Taxonomia (\n",
    "  Categoria VARCHAR(50) NOT NULL,\n",
    "  Superior  VARCHAR(50),\n",
    "  PRIMARY KEY(Categoria),\n",
    "  FOREIGN KEY(Superior)\n",
    "    REFERENCES Taxonomia(Categoria)\n",
    "      ON DELETE NO ACTION\n",
    "      ON UPDATE CASCADE\n",
    ");\n",
    "\n",
    "CREATE TABLE Marcadores (\n",
    "  Titulo VARCHAR(50) NOT NULL,\n",
    "  Endereco VARCHAR(80) NOT NULL,\n",
    "  Acessos INTEGER,\n",
    "  Categoria VARCHAR(50) NOT NULL,\n",
    "  PRIMARY KEY(Titulo),\n",
    "  FOREIGN KEY(Categoria)\n",
    "    REFERENCES Taxonomia(Categoria)\n",
    "      ON DELETE NO ACTION\n",
    "      ON UPDATE CASCADE\n",
    ");"
   ]
  },
  {
   "cell_type": "markdown",
   "metadata": {},
   "source": [
    "As tabelas são preenchidas com as seguintes tuplas:"
   ]
  },
  {
   "cell_type": "code",
   "execution_count": null,
   "metadata": {},
   "outputs": [],
   "source": [
    "INSERT INTO Taxonomia VALUES ('Geral', NULL);\n",
    "INSERT INTO Taxonomia VALUES ('Serviços', 'Geral');\n",
    "INSERT INTO Taxonomia VALUES ('Acadêmico', 'Geral');\n",
    "INSERT INTO Taxonomia VALUES ('Relacionamento', 'Geral');\n",
    "INSERT INTO Taxonomia VALUES ('Busca', 'Serviços');\n",
    "INSERT INTO Taxonomia VALUES ('Portal', 'Serviços');\n",
    "INSERT INTO Taxonomia VALUES ('Mail', 'Serviços');\n",
    "INSERT INTO Taxonomia VALUES ('Vendas', 'Serviços');\n",
    "INSERT INTO Taxonomia VALUES ('Universidade', 'Acadêmico');\n",
    "INSERT INTO Taxonomia VALUES ('CG', 'Acadêmico');\n",
    "INSERT INTO Taxonomia VALUES ('Sociedade', 'Acadêmico');\n",
    "INSERT INTO Taxonomia VALUES ('Rede Social', 'Relacionamento');\n",
    "INSERT INTO Taxonomia VALUES ('Marketplace', 'Vendas');\n",
    "INSERT INTO Taxonomia VALUES ('Loja', 'Vendas');\n",
    "INSERT INTO Taxonomia VALUES ('Notícias', 'Portal');\n",
    "INSERT INTO Taxonomia VALUES ('Agregador', 'Portal');\n",
    "\n",
    "INSERT INTO Marcadores VALUES ('Terra', 'http://www.terra.com.br', 295, 'Portal');\n",
    "INSERT INTO Marcadores VALUES ('POVRay', 'http://www.povray.org', 2, 'CG');\n",
    "INSERT INTO Marcadores VALUES ('SBC', 'http://www.sbc.org.br', 26, 'Sociedade');\n",
    "INSERT INTO Marcadores VALUES ('Correios', 'http://www.correios.com.br', 45, 'Serviços');\n",
    "INSERT INTO Marcadores VALUES ('GMail', 'http://www.gmail.com', 296, 'Mail');\n",
    "INSERT INTO Marcadores VALUES ('Google', 'http://www.google.com', 1590, 'Busca');\n",
    "INSERT INTO Marcadores VALUES ('Yahoo', 'http://www.yahoo.com', 134, 'Serviços');\n",
    "INSERT INTO Marcadores VALUES ('Orkut', 'http://www.orkut.com', 45, 'Rede Social');\n",
    "INSERT INTO Marcadores VALUES ('iBahia', 'http://www.ibahia.com', 3, 'Portal');\n",
    "INSERT INTO Marcadores VALUES ('Submarino', 'http://www.submarino.com.br', 320, 'Loja');\n",
    "INSERT INTO Marcadores VALUES ('Amazon', 'https://www.amazon.com.br', 410, 'Marketplace');\n",
    "INSERT INTO Marcadores VALUES ('Americanas', 'https://www.americanas.com.br', 320, 'Loja');\n",
    "INSERT INTO Marcadores VALUES ('Mercado Livre', 'https://www.mercadolivre.com.br', 500, 'Marketplace');\n",
    "INSERT INTO Marcadores VALUES ('G1', 'https://g1.globo.com', 1200, 'Notícias');\n",
    "INSERT INTO Marcadores VALUES ('Folha', 'https://www.folha.uol.com.br', 850, 'Notícias');\n",
    "INSERT INTO Marcadores VALUES ('Google News', 'https://news.google.com', 900, 'Agregador');\n",
    "INSERT INTO Marcadores VALUES ('Flipboard', 'https://flipboard.com', 950, 'Agregador');"
   ]
  },
  {
   "cell_type": "markdown",
   "metadata": {},
   "source": [
    "Conteúdo da tabela `Taxonomia`:"
   ]
  },
  {
   "cell_type": "code",
   "execution_count": null,
   "metadata": {},
   "outputs": [],
   "source": [
    "SELECT * FROM Taxonomia;"
   ]
  },
  {
   "cell_type": "markdown",
   "metadata": {},
   "source": [
    "Conteúdo da tabela `Marcadores`:"
   ]
  },
  {
   "cell_type": "code",
   "execution_count": null,
   "metadata": {},
   "outputs": [],
   "source": [
    "SELECT * FROM Marcadores;"
   ]
  },
  {
   "cell_type": "markdown",
   "metadata": {},
   "source": [
    "## Tarefa 1\n",
    "\n",
    "Escreva em SQL uma consulta que retorne os marcadores da categoria `Serviços`, sem considerar as categorias subordinadas."
   ]
  },
  {
   "cell_type": "code",
   "execution_count": null,
   "metadata": {},
   "outputs": [],
   "source": []
  },
  {
   "cell_type": "markdown",
   "metadata": {},
   "source": [
    "## Tarefa 2\n",
    "\n",
    "Escreva em SQL uma consulta que retorne os marcadores da categoria `Serviços`, considerando as categorias subordinadas."
   ]
  },
  {
   "cell_type": "code",
   "execution_count": null,
   "metadata": {},
   "outputs": [],
   "source": []
  }
 ],
 "metadata": {
  "interpreter": {
   "hash": "9e9a914cc7395c5a3d54f44bb76f7f6559d4d5495f11091b1c99b3d7bc2a4a2e"
  },
  "kernelspec": {
   "display_name": "SQL",
   "language": "SQL",
   "name": "sql"
  },
  "language_info": {
   "codemirror_mode": "sql",
   "file_extension": ".sql",
   "mimetype": "",
   "name": "SQL",
   "nbconverter_exporter": "",
   "version": ""
  },
  "toc": {
   "base_numbering": 1,
   "nav_menu": {},
   "number_sections": false,
   "sideBar": false,
   "skip_h1_title": false,
   "title_cell": "Table of Contents",
   "title_sidebar": "Contents",
   "toc_cell": false,
   "toc_position": {},
   "toc_section_display": false,
   "toc_window_display": false
  }
 },
 "nbformat": 4,
 "nbformat_minor": 4
}
