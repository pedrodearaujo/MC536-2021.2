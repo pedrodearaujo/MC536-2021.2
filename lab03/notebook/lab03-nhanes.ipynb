{
 "cells": [
  {
   "cell_type": "markdown",
   "source": [
    "# National Health and Nutrition Examination Survey (NHANES)\n",
    "[https://wwwn.cdc.gov/nchs/nhanes/](https://wwwn.cdc.gov/nchs/nhanes/)\n",
    "\n",
    "Este laboratório usará dados extraídos do NHANES.\n",
    "\n",
    "## NHANES datasets from 2013-2014\n",
    "\n",
    "Foram extraídos dados do [NHANES 2013-2014](https://wwwn.cdc.gov/nchs/nhanes/continuousnhanes/default.aspx?BeginYear=2013).\n",
    "\n",
    "Os dados estão disponíveis em arquivos CSV no diretório `/data/nhanes`. Lá está disponível a documentação do esquema dos arquivos."
   ],
   "metadata": {}
  },
  {
   "cell_type": "markdown",
   "source": [
    "# Tarefa 1 - Esquema Relacional\n",
    "\n",
    "Analise os arquivos CSV que estão no diretório `/data/nhanes` e escreva um esquema relacional referente às tabelas, suas chaves primárias e estrangeiras (não é SQL ainda). Coloque a chave primária com dois underlines antes e dois depois:\n",
    "\n",
    "\\__teste\\__"
   ],
   "metadata": {}
  },
  {
   "cell_type": "markdown",
   "source": [
    "Pessoa (  __Id__ ,  Gender,  Age )\n",
    "\n",
    "Drug ( __Code__, Name )\n",
    "Uso ( __Person_Id__, __Drug_Code__, Days_Use)\n",
    "Person_Id é chave estrangeira para Pessoa\n",
    "Drug_Code é chave estrangeira para Drug"
   ],
   "metadata": {}
  },
  {
   "cell_type": "markdown",
   "source": [
    "## Criação das Tabelas em SQL e Importação de Dados\n",
    "\n",
    "Considere o seguinte exemplo em que é criada uma tabela em SQL e importado dados do arquivo CSV `demographic-person.csv`."
   ],
   "metadata": {}
  },
  {
   "cell_type": "code",
   "execution_count": 1,
   "source": [
    "%defaultDatasource jdbc:h2:mem:db"
   ],
   "outputs": [],
   "metadata": {}
  },
  {
   "cell_type": "code",
   "execution_count": 2,
   "source": [
    "CREATE TABLE Pessoa (\n",
    "  Id VARCHAR(5) NOT NULL,\n",
    "  Gender INTEGER,\n",
    "  Age INTEGER,\n",
    "  PRIMARY KEY(Id)\n",
    ") AS SELECT\n",
    "    id,\n",
    "    gender,\n",
    "    age\n",
    "FROM CSVREAD('../../../data/nhanes/demographic-person.csv');"
   ],
   "outputs": [],
   "metadata": {}
  },
  {
   "cell_type": "code",
   "execution_count": 3,
   "source": [
    "SELECT * FROM Pessoa;"
   ],
   "outputs": [
    {
     "output_type": "display_data",
     "data": {
      "application/vnd.code.notebook.error": {
       "name": "Error",
       "message": "INVALID mime type, must not be empty or falsy: method",
       "stack": "Error: INVALID mime type, must not be empty or falsy: method\n\tat new Ne (/usr/share/code/resources/app/out/vs/workbench/services/extensions/node/extensionHostProcess.js:78:55540)\n\tat Function.text (/usr/share/code/resources/app/out/vs/workbench/services/extensions/node/extensionHostProcess.js:78:56159)\n\tat i (/usr/share/code/resources/app/extensions/ipynb/dist/ipynbMain.js:1:139081)\n\tat b (/usr/share/code/resources/app/extensions/ipynb/dist/ipynbMain.js:1:143666)\n\tat _ (/usr/share/code/resources/app/extensions/ipynb/dist/ipynbMain.js:1:143962)\n\tat Array.map (<anonymous>)\n\tat /usr/share/code/resources/app/extensions/ipynb/dist/ipynbMain.js:1:145114\n\tat /usr/share/code/resources/app/extensions/ipynb/dist/ipynbMain.js:1:145356\n\tat /usr/share/code/resources/app/extensions/ipynb/dist/ipynbMain.js:1:145363\n\tat Array.map (<anonymous>)\n\tat e.jupyterNotebookModelToNotebookData (/usr/share/code/resources/app/extensions/ipynb/dist/ipynbMain.js:1:144672)\n\tat e.NotebookSerializer.deserializeNotebook (/usr/share/code/resources/app/extensions/ipynb/dist/ipynbMain.js:1:146599)\n\tat _.$dataToNotebook (/usr/share/code/resources/app/out/vs/workbench/services/extensions/node/extensionHostProcess.js:85:211988)\n\tat h._doInvokeHandler (/usr/share/code/resources/app/out/vs/workbench/services/extensions/node/extensionHostProcess.js:89:12819)\n\tat h._invokeHandler (/usr/share/code/resources/app/out/vs/workbench/services/extensions/node/extensionHostProcess.js:89:12503)\n\tat h._receiveRequest (/usr/share/code/resources/app/out/vs/workbench/services/extensions/node/extensionHostProcess.js:89:11107)\n\tat h._receiveOneMessage (/usr/share/code/resources/app/out/vs/workbench/services/extensions/node/extensionHostProcess.js:89:10142)\n\tat /usr/share/code/resources/app/out/vs/workbench/services/extensions/node/extensionHostProcess.js:89:8039\n\tat d.fire (/usr/share/code/resources/app/out/vs/workbench/services/extensions/node/extensionHostProcess.js:57:1712)\n\tat c.fire (/usr/share/code/resources/app/out/vs/workbench/services/extensions/node/extensionHostProcess.js:65:15825)\n\tat /usr/share/code/resources/app/out/vs/workbench/services/extensions/node/extensionHostProcess.js:104:30060\n\tat d.fire (/usr/share/code/resources/app/out/vs/workbench/services/extensions/node/extensionHostProcess.js:57:1712)\n\tat c.fire (/usr/share/code/resources/app/out/vs/workbench/services/extensions/node/extensionHostProcess.js:65:15825)\n\tat r._receiveMessage (/usr/share/code/resources/app/out/vs/workbench/services/extensions/node/extensionHostProcess.js:65:21091)\n\tat /usr/share/code/resources/app/out/vs/workbench/services/extensions/node/extensionHostProcess.js:65:17969\n\tat d.fire (/usr/share/code/resources/app/out/vs/workbench/services/extensions/node/extensionHostProcess.js:57:1712)\n\tat v.acceptChunk (/usr/share/code/resources/app/out/vs/workbench/services/extensions/node/extensionHostProcess.js:65:13186)\n\tat /usr/share/code/resources/app/out/vs/workbench/services/extensions/node/extensionHostProcess.js:65:12534\n\tat Socket.w (/usr/share/code/resources/app/out/vs/workbench/services/extensions/node/extensionHostProcess.js:104:13218)\n\tat Socket.emit (events.js:315:20)\n\tat Socket.EventEmitter.emit (domain.js:467:12)\n\tat addChunk (internal/streams/readable.js:309:12)\n\tat readableAddChunk (internal/streams/readable.js:284:9)\n\tat Socket.Readable.push (internal/streams/readable.js:223:10)\n\tat Pipe.onStreamRead (internal/stream_base_commons.js:188:23)"
      },
      "application/vnd.jupyter.widget-view+json": {
       "model_id": "2ab1aa2b-519c-46f6-bb8b-1fd73c705034",
       "version_major": 2,
       "version_minor": 0
      }
     },
     "metadata": {}
    }
   ],
   "metadata": {}
  },
  {
   "cell_type": "markdown",
   "source": [
    "# Tarefa 2 - Criação das Tabelas em SQL e Importação de Dados\n",
    "\n",
    "Escreva instruções SQL para montar as duas tabelas restante, conforme definido no esquema relacional da **Tarefa 1**.\n",
    "\n",
    "**Importante:** não defina chave primária para a tabela de uso de medicamento.\n",
    "\n",
    "Durante a criação das tabelas, realize a importação dos dados do arquivo CSV nas tabelas criadas, conforme exemplo anterior."
   ],
   "metadata": {}
  },
  {
   "cell_type": "code",
   "execution_count": 4,
   "source": [
    "CREATE TABLE Drug (\n",
    "  Code VARCHAR(10) NOT NULL,\n",
    "  Name VARCHAR(100) NOT NULL,\n",
    "  PRIMARY KEY(Code)\n",
    ") AS SELECT\n",
    "    code,\n",
    "    name\n",
    "FROM CSVREAD('../../../data/nhanes/medications-drug.csv');"
   ],
   "outputs": [],
   "metadata": {}
  },
  {
   "cell_type": "code",
   "execution_count": 5,
   "source": [
    "SELECT * FROM Drug"
   ],
   "outputs": [
    {
     "output_type": "display_data",
     "data": {
      "application/vnd.code.notebook.error": {
       "name": "Error",
       "message": "INVALID mime type, must not be empty or falsy: method",
       "stack": "Error: INVALID mime type, must not be empty or falsy: method\n\tat new Ne (/usr/share/code/resources/app/out/vs/workbench/services/extensions/node/extensionHostProcess.js:78:55540)\n\tat Function.text (/usr/share/code/resources/app/out/vs/workbench/services/extensions/node/extensionHostProcess.js:78:56159)\n\tat i (/usr/share/code/resources/app/extensions/ipynb/dist/ipynbMain.js:1:139081)\n\tat b (/usr/share/code/resources/app/extensions/ipynb/dist/ipynbMain.js:1:143666)\n\tat _ (/usr/share/code/resources/app/extensions/ipynb/dist/ipynbMain.js:1:143962)\n\tat Array.map (<anonymous>)\n\tat /usr/share/code/resources/app/extensions/ipynb/dist/ipynbMain.js:1:145114\n\tat /usr/share/code/resources/app/extensions/ipynb/dist/ipynbMain.js:1:145356\n\tat /usr/share/code/resources/app/extensions/ipynb/dist/ipynbMain.js:1:145363\n\tat Array.map (<anonymous>)\n\tat e.jupyterNotebookModelToNotebookData (/usr/share/code/resources/app/extensions/ipynb/dist/ipynbMain.js:1:144672)\n\tat e.NotebookSerializer.deserializeNotebook (/usr/share/code/resources/app/extensions/ipynb/dist/ipynbMain.js:1:146599)\n\tat _.$dataToNotebook (/usr/share/code/resources/app/out/vs/workbench/services/extensions/node/extensionHostProcess.js:85:211988)\n\tat h._doInvokeHandler (/usr/share/code/resources/app/out/vs/workbench/services/extensions/node/extensionHostProcess.js:89:12819)\n\tat h._invokeHandler (/usr/share/code/resources/app/out/vs/workbench/services/extensions/node/extensionHostProcess.js:89:12503)\n\tat h._receiveRequest (/usr/share/code/resources/app/out/vs/workbench/services/extensions/node/extensionHostProcess.js:89:11107)\n\tat h._receiveOneMessage (/usr/share/code/resources/app/out/vs/workbench/services/extensions/node/extensionHostProcess.js:89:10142)\n\tat /usr/share/code/resources/app/out/vs/workbench/services/extensions/node/extensionHostProcess.js:89:8039\n\tat d.fire (/usr/share/code/resources/app/out/vs/workbench/services/extensions/node/extensionHostProcess.js:57:1712)\n\tat c.fire (/usr/share/code/resources/app/out/vs/workbench/services/extensions/node/extensionHostProcess.js:65:15825)\n\tat /usr/share/code/resources/app/out/vs/workbench/services/extensions/node/extensionHostProcess.js:104:30060\n\tat d.fire (/usr/share/code/resources/app/out/vs/workbench/services/extensions/node/extensionHostProcess.js:57:1712)\n\tat c.fire (/usr/share/code/resources/app/out/vs/workbench/services/extensions/node/extensionHostProcess.js:65:15825)\n\tat r._receiveMessage (/usr/share/code/resources/app/out/vs/workbench/services/extensions/node/extensionHostProcess.js:65:21091)\n\tat /usr/share/code/resources/app/out/vs/workbench/services/extensions/node/extensionHostProcess.js:65:17969\n\tat d.fire (/usr/share/code/resources/app/out/vs/workbench/services/extensions/node/extensionHostProcess.js:57:1712)\n\tat v.acceptChunk (/usr/share/code/resources/app/out/vs/workbench/services/extensions/node/extensionHostProcess.js:65:13186)\n\tat /usr/share/code/resources/app/out/vs/workbench/services/extensions/node/extensionHostProcess.js:65:12534\n\tat Socket.w (/usr/share/code/resources/app/out/vs/workbench/services/extensions/node/extensionHostProcess.js:104:13218)\n\tat Socket.emit (events.js:315:20)\n\tat Socket.EventEmitter.emit (domain.js:467:12)\n\tat addChunk (internal/streams/readable.js:309:12)\n\tat readableAddChunk (internal/streams/readable.js:284:9)\n\tat Socket.Readable.push (internal/streams/readable.js:223:10)\n\tat Pipe.onStreamRead (internal/stream_base_commons.js:188:23)"
      },
      "application/vnd.jupyter.widget-view+json": {
       "model_id": "790db62a-a910-4638-b28e-edbfb71fc14c",
       "version_major": 2,
       "version_minor": 0
      }
     },
     "metadata": {}
    }
   ],
   "metadata": {}
  },
  {
   "cell_type": "code",
   "execution_count": 6,
   "source": [
    "CREATE TABLE Uso (\n",
    "  Person_Id VARCHAR(5) NOT NULL,\n",
    "  Drug_Code VARCHAR(10) NOT NULL,\n",
    "  Days_Use INT,\n",
    ") AS SELECT\n",
    "    person_id,\n",
    "    drug_code,\n",
    "    days_use\n",
    "FROM CSVREAD('../../../data/nhanes/medications-use.csv');\n",
    "\n",
    "ALTER TABLE Uso ADD FOREIGN KEY (Person_Id) REFERENCES Pessoa (Id);\n",
    "ALTER TABLE Uso ADD FOREIGN KEY (Drug_Code) REFERENCES Drug (Code);"
   ],
   "outputs": [],
   "metadata": {}
  },
  {
   "cell_type": "code",
   "execution_count": 7,
   "source": [
    "SELECT * FROM Uso"
   ],
   "outputs": [
    {
     "output_type": "display_data",
     "data": {
      "application/vnd.code.notebook.error": {
       "name": "Error",
       "message": "INVALID mime type, must not be empty or falsy: method",
       "stack": "Error: INVALID mime type, must not be empty or falsy: method\n\tat new Ne (/usr/share/code/resources/app/out/vs/workbench/services/extensions/node/extensionHostProcess.js:78:55540)\n\tat Function.text (/usr/share/code/resources/app/out/vs/workbench/services/extensions/node/extensionHostProcess.js:78:56159)\n\tat i (/usr/share/code/resources/app/extensions/ipynb/dist/ipynbMain.js:1:139081)\n\tat b (/usr/share/code/resources/app/extensions/ipynb/dist/ipynbMain.js:1:143666)\n\tat _ (/usr/share/code/resources/app/extensions/ipynb/dist/ipynbMain.js:1:143962)\n\tat Array.map (<anonymous>)\n\tat /usr/share/code/resources/app/extensions/ipynb/dist/ipynbMain.js:1:145114\n\tat /usr/share/code/resources/app/extensions/ipynb/dist/ipynbMain.js:1:145356\n\tat /usr/share/code/resources/app/extensions/ipynb/dist/ipynbMain.js:1:145363\n\tat Array.map (<anonymous>)\n\tat e.jupyterNotebookModelToNotebookData (/usr/share/code/resources/app/extensions/ipynb/dist/ipynbMain.js:1:144672)\n\tat e.NotebookSerializer.deserializeNotebook (/usr/share/code/resources/app/extensions/ipynb/dist/ipynbMain.js:1:146599)\n\tat _.$dataToNotebook (/usr/share/code/resources/app/out/vs/workbench/services/extensions/node/extensionHostProcess.js:85:211988)\n\tat h._doInvokeHandler (/usr/share/code/resources/app/out/vs/workbench/services/extensions/node/extensionHostProcess.js:89:12819)\n\tat h._invokeHandler (/usr/share/code/resources/app/out/vs/workbench/services/extensions/node/extensionHostProcess.js:89:12503)\n\tat h._receiveRequest (/usr/share/code/resources/app/out/vs/workbench/services/extensions/node/extensionHostProcess.js:89:11107)\n\tat h._receiveOneMessage (/usr/share/code/resources/app/out/vs/workbench/services/extensions/node/extensionHostProcess.js:89:10142)\n\tat /usr/share/code/resources/app/out/vs/workbench/services/extensions/node/extensionHostProcess.js:89:8039\n\tat d.fire (/usr/share/code/resources/app/out/vs/workbench/services/extensions/node/extensionHostProcess.js:57:1712)\n\tat c.fire (/usr/share/code/resources/app/out/vs/workbench/services/extensions/node/extensionHostProcess.js:65:15825)\n\tat /usr/share/code/resources/app/out/vs/workbench/services/extensions/node/extensionHostProcess.js:104:30060\n\tat d.fire (/usr/share/code/resources/app/out/vs/workbench/services/extensions/node/extensionHostProcess.js:57:1712)\n\tat c.fire (/usr/share/code/resources/app/out/vs/workbench/services/extensions/node/extensionHostProcess.js:65:15825)\n\tat r._receiveMessage (/usr/share/code/resources/app/out/vs/workbench/services/extensions/node/extensionHostProcess.js:65:21091)\n\tat /usr/share/code/resources/app/out/vs/workbench/services/extensions/node/extensionHostProcess.js:65:17969\n\tat d.fire (/usr/share/code/resources/app/out/vs/workbench/services/extensions/node/extensionHostProcess.js:57:1712)\n\tat v.acceptChunk (/usr/share/code/resources/app/out/vs/workbench/services/extensions/node/extensionHostProcess.js:65:13186)\n\tat /usr/share/code/resources/app/out/vs/workbench/services/extensions/node/extensionHostProcess.js:65:12534\n\tat Socket.w (/usr/share/code/resources/app/out/vs/workbench/services/extensions/node/extensionHostProcess.js:104:13218)\n\tat Socket.emit (events.js:315:20)\n\tat Socket.EventEmitter.emit (domain.js:467:12)\n\tat addChunk (internal/streams/readable.js:309:12)\n\tat readableAddChunk (internal/streams/readable.js:284:9)\n\tat Socket.Readable.push (internal/streams/readable.js:223:10)\n\tat Pipe.onStreamRead (internal/stream_base_commons.js:188:23)"
      },
      "application/vnd.jupyter.widget-view+json": {
       "model_id": "52d624f7-e17a-4663-ad1b-3d439afdb7ba",
       "version_major": 2,
       "version_minor": 0
      }
     },
     "metadata": {}
    }
   ],
   "metadata": {}
  },
  {
   "cell_type": "markdown",
   "source": [
    "# Tarefa 3 - Consultas Simples\n",
    "\n",
    "Execute as consultas a seguir."
   ],
   "metadata": {}
  },
  {
   "cell_type": "markdown",
   "source": [
    "a) Liste pessoas com idade acima de 60"
   ],
   "metadata": {}
  },
  {
   "cell_type": "code",
   "execution_count": 8,
   "source": [
    "SELECT Age FROM Pessoa\n",
    "    WHERE Age > 60"
   ],
   "outputs": [
    {
     "output_type": "display_data",
     "data": {
      "application/vnd.code.notebook.error": {
       "name": "Error",
       "message": "INVALID mime type, must not be empty or falsy: method",
       "stack": "Error: INVALID mime type, must not be empty or falsy: method\n\tat new Ne (/usr/share/code/resources/app/out/vs/workbench/services/extensions/node/extensionHostProcess.js:78:55540)\n\tat Function.text (/usr/share/code/resources/app/out/vs/workbench/services/extensions/node/extensionHostProcess.js:78:56159)\n\tat i (/usr/share/code/resources/app/extensions/ipynb/dist/ipynbMain.js:1:139081)\n\tat b (/usr/share/code/resources/app/extensions/ipynb/dist/ipynbMain.js:1:143666)\n\tat _ (/usr/share/code/resources/app/extensions/ipynb/dist/ipynbMain.js:1:143962)\n\tat Array.map (<anonymous>)\n\tat /usr/share/code/resources/app/extensions/ipynb/dist/ipynbMain.js:1:145114\n\tat /usr/share/code/resources/app/extensions/ipynb/dist/ipynbMain.js:1:145356\n\tat /usr/share/code/resources/app/extensions/ipynb/dist/ipynbMain.js:1:145363\n\tat Array.map (<anonymous>)\n\tat e.jupyterNotebookModelToNotebookData (/usr/share/code/resources/app/extensions/ipynb/dist/ipynbMain.js:1:144672)\n\tat e.NotebookSerializer.deserializeNotebook (/usr/share/code/resources/app/extensions/ipynb/dist/ipynbMain.js:1:146599)\n\tat _.$dataToNotebook (/usr/share/code/resources/app/out/vs/workbench/services/extensions/node/extensionHostProcess.js:85:211988)\n\tat h._doInvokeHandler (/usr/share/code/resources/app/out/vs/workbench/services/extensions/node/extensionHostProcess.js:89:12819)\n\tat h._invokeHandler (/usr/share/code/resources/app/out/vs/workbench/services/extensions/node/extensionHostProcess.js:89:12503)\n\tat h._receiveRequest (/usr/share/code/resources/app/out/vs/workbench/services/extensions/node/extensionHostProcess.js:89:11107)\n\tat h._receiveOneMessage (/usr/share/code/resources/app/out/vs/workbench/services/extensions/node/extensionHostProcess.js:89:10142)\n\tat /usr/share/code/resources/app/out/vs/workbench/services/extensions/node/extensionHostProcess.js:89:8039\n\tat d.fire (/usr/share/code/resources/app/out/vs/workbench/services/extensions/node/extensionHostProcess.js:57:1712)\n\tat c.fire (/usr/share/code/resources/app/out/vs/workbench/services/extensions/node/extensionHostProcess.js:65:15825)\n\tat /usr/share/code/resources/app/out/vs/workbench/services/extensions/node/extensionHostProcess.js:104:30060\n\tat d.fire (/usr/share/code/resources/app/out/vs/workbench/services/extensions/node/extensionHostProcess.js:57:1712)\n\tat c.fire (/usr/share/code/resources/app/out/vs/workbench/services/extensions/node/extensionHostProcess.js:65:15825)\n\tat r._receiveMessage (/usr/share/code/resources/app/out/vs/workbench/services/extensions/node/extensionHostProcess.js:65:21091)\n\tat /usr/share/code/resources/app/out/vs/workbench/services/extensions/node/extensionHostProcess.js:65:17969\n\tat d.fire (/usr/share/code/resources/app/out/vs/workbench/services/extensions/node/extensionHostProcess.js:57:1712)\n\tat v.acceptChunk (/usr/share/code/resources/app/out/vs/workbench/services/extensions/node/extensionHostProcess.js:65:13186)\n\tat /usr/share/code/resources/app/out/vs/workbench/services/extensions/node/extensionHostProcess.js:65:12534\n\tat Socket.w (/usr/share/code/resources/app/out/vs/workbench/services/extensions/node/extensionHostProcess.js:104:13218)\n\tat Socket.emit (events.js:315:20)\n\tat Socket.EventEmitter.emit (domain.js:467:12)\n\tat addChunk (internal/streams/readable.js:309:12)\n\tat readableAddChunk (internal/streams/readable.js:284:9)\n\tat Socket.Readable.push (internal/streams/readable.js:223:10)\n\tat Pipe.onStreamRead (internal/stream_base_commons.js:188:23)"
      },
      "application/vnd.jupyter.widget-view+json": {
       "model_id": "20eab3fe-9ec2-404b-9a60-f91eb90a809b",
       "version_major": 2,
       "version_minor": 0
      }
     },
     "metadata": {}
    }
   ],
   "metadata": {}
  },
  {
   "cell_type": "markdown",
   "source": [
    "b) Liste as idades das pessoas cadastradas (sem repetições)"
   ],
   "metadata": {}
  },
  {
   "cell_type": "code",
   "execution_count": 9,
   "source": [
    "SELECT DISTINCT Age FROM Pessoa"
   ],
   "outputs": [
    {
     "output_type": "display_data",
     "data": {
      "application/vnd.code.notebook.error": {
       "name": "Error",
       "message": "INVALID mime type, must not be empty or falsy: method",
       "stack": "Error: INVALID mime type, must not be empty or falsy: method\n\tat new Ne (/usr/share/code/resources/app/out/vs/workbench/services/extensions/node/extensionHostProcess.js:78:55540)\n\tat Function.text (/usr/share/code/resources/app/out/vs/workbench/services/extensions/node/extensionHostProcess.js:78:56159)\n\tat i (/usr/share/code/resources/app/extensions/ipynb/dist/ipynbMain.js:1:139081)\n\tat b (/usr/share/code/resources/app/extensions/ipynb/dist/ipynbMain.js:1:143666)\n\tat _ (/usr/share/code/resources/app/extensions/ipynb/dist/ipynbMain.js:1:143962)\n\tat Array.map (<anonymous>)\n\tat /usr/share/code/resources/app/extensions/ipynb/dist/ipynbMain.js:1:145114\n\tat /usr/share/code/resources/app/extensions/ipynb/dist/ipynbMain.js:1:145356\n\tat /usr/share/code/resources/app/extensions/ipynb/dist/ipynbMain.js:1:145363\n\tat Array.map (<anonymous>)\n\tat e.jupyterNotebookModelToNotebookData (/usr/share/code/resources/app/extensions/ipynb/dist/ipynbMain.js:1:144672)\n\tat e.NotebookSerializer.deserializeNotebook (/usr/share/code/resources/app/extensions/ipynb/dist/ipynbMain.js:1:146599)\n\tat _.$dataToNotebook (/usr/share/code/resources/app/out/vs/workbench/services/extensions/node/extensionHostProcess.js:85:211988)\n\tat h._doInvokeHandler (/usr/share/code/resources/app/out/vs/workbench/services/extensions/node/extensionHostProcess.js:89:12819)\n\tat h._invokeHandler (/usr/share/code/resources/app/out/vs/workbench/services/extensions/node/extensionHostProcess.js:89:12503)\n\tat h._receiveRequest (/usr/share/code/resources/app/out/vs/workbench/services/extensions/node/extensionHostProcess.js:89:11107)\n\tat h._receiveOneMessage (/usr/share/code/resources/app/out/vs/workbench/services/extensions/node/extensionHostProcess.js:89:10142)\n\tat /usr/share/code/resources/app/out/vs/workbench/services/extensions/node/extensionHostProcess.js:89:8039\n\tat d.fire (/usr/share/code/resources/app/out/vs/workbench/services/extensions/node/extensionHostProcess.js:57:1712)\n\tat c.fire (/usr/share/code/resources/app/out/vs/workbench/services/extensions/node/extensionHostProcess.js:65:15825)\n\tat /usr/share/code/resources/app/out/vs/workbench/services/extensions/node/extensionHostProcess.js:104:30060\n\tat d.fire (/usr/share/code/resources/app/out/vs/workbench/services/extensions/node/extensionHostProcess.js:57:1712)\n\tat c.fire (/usr/share/code/resources/app/out/vs/workbench/services/extensions/node/extensionHostProcess.js:65:15825)\n\tat r._receiveMessage (/usr/share/code/resources/app/out/vs/workbench/services/extensions/node/extensionHostProcess.js:65:21091)\n\tat /usr/share/code/resources/app/out/vs/workbench/services/extensions/node/extensionHostProcess.js:65:17969\n\tat d.fire (/usr/share/code/resources/app/out/vs/workbench/services/extensions/node/extensionHostProcess.js:57:1712)\n\tat v.acceptChunk (/usr/share/code/resources/app/out/vs/workbench/services/extensions/node/extensionHostProcess.js:65:13186)\n\tat /usr/share/code/resources/app/out/vs/workbench/services/extensions/node/extensionHostProcess.js:65:12534\n\tat Socket.w (/usr/share/code/resources/app/out/vs/workbench/services/extensions/node/extensionHostProcess.js:104:13218)\n\tat Socket.emit (events.js:315:20)\n\tat Socket.EventEmitter.emit (domain.js:467:12)\n\tat addChunk (internal/streams/readable.js:309:12)\n\tat readableAddChunk (internal/streams/readable.js:284:9)\n\tat Socket.Readable.push (internal/streams/readable.js:223:10)\n\tat Pipe.onStreamRead (internal/stream_base_commons.js:188:23)"
      },
      "application/vnd.jupyter.widget-view+json": {
       "model_id": "4a33965a-1025-471e-867c-ec77d24b1d68",
       "version_major": 2,
       "version_minor": 0
      }
     },
     "metadata": {}
    }
   ],
   "metadata": {}
  },
  {
   "cell_type": "markdown",
   "source": [
    "c) Liste código das pessoas, idade, código dos medicamentos que usaram e dias de uso"
   ],
   "metadata": {}
  },
  {
   "cell_type": "code",
   "execution_count": 10,
   "source": [
    "SELECT DISTINCT Pessoa.Id, Pessoa.Age, Drug.Code, Uso.Days_Use\n",
    "        FROM Pessoa, Drug, Uso\n",
    "            WHERE Pessoa.Id = Uso.Person_Id AND\n",
    "             Drug.Code = Uso.Drug_Code"
   ],
   "outputs": [
    {
     "output_type": "display_data",
     "data": {
      "application/vnd.code.notebook.error": {
       "name": "Error",
       "message": "INVALID mime type, must not be empty or falsy: method",
       "stack": "Error: INVALID mime type, must not be empty or falsy: method\n\tat new Ne (/usr/share/code/resources/app/out/vs/workbench/services/extensions/node/extensionHostProcess.js:78:55540)\n\tat Function.text (/usr/share/code/resources/app/out/vs/workbench/services/extensions/node/extensionHostProcess.js:78:56159)\n\tat i (/usr/share/code/resources/app/extensions/ipynb/dist/ipynbMain.js:1:139081)\n\tat b (/usr/share/code/resources/app/extensions/ipynb/dist/ipynbMain.js:1:143666)\n\tat _ (/usr/share/code/resources/app/extensions/ipynb/dist/ipynbMain.js:1:143962)\n\tat Array.map (<anonymous>)\n\tat /usr/share/code/resources/app/extensions/ipynb/dist/ipynbMain.js:1:145114\n\tat /usr/share/code/resources/app/extensions/ipynb/dist/ipynbMain.js:1:145356\n\tat /usr/share/code/resources/app/extensions/ipynb/dist/ipynbMain.js:1:145363\n\tat Array.map (<anonymous>)\n\tat e.jupyterNotebookModelToNotebookData (/usr/share/code/resources/app/extensions/ipynb/dist/ipynbMain.js:1:144672)\n\tat e.NotebookSerializer.deserializeNotebook (/usr/share/code/resources/app/extensions/ipynb/dist/ipynbMain.js:1:146599)\n\tat _.$dataToNotebook (/usr/share/code/resources/app/out/vs/workbench/services/extensions/node/extensionHostProcess.js:85:211988)\n\tat h._doInvokeHandler (/usr/share/code/resources/app/out/vs/workbench/services/extensions/node/extensionHostProcess.js:89:12819)\n\tat h._invokeHandler (/usr/share/code/resources/app/out/vs/workbench/services/extensions/node/extensionHostProcess.js:89:12503)\n\tat h._receiveRequest (/usr/share/code/resources/app/out/vs/workbench/services/extensions/node/extensionHostProcess.js:89:11107)\n\tat h._receiveOneMessage (/usr/share/code/resources/app/out/vs/workbench/services/extensions/node/extensionHostProcess.js:89:10142)\n\tat /usr/share/code/resources/app/out/vs/workbench/services/extensions/node/extensionHostProcess.js:89:8039\n\tat d.fire (/usr/share/code/resources/app/out/vs/workbench/services/extensions/node/extensionHostProcess.js:57:1712)\n\tat c.fire (/usr/share/code/resources/app/out/vs/workbench/services/extensions/node/extensionHostProcess.js:65:15825)\n\tat /usr/share/code/resources/app/out/vs/workbench/services/extensions/node/extensionHostProcess.js:104:30060\n\tat d.fire (/usr/share/code/resources/app/out/vs/workbench/services/extensions/node/extensionHostProcess.js:57:1712)\n\tat c.fire (/usr/share/code/resources/app/out/vs/workbench/services/extensions/node/extensionHostProcess.js:65:15825)\n\tat r._receiveMessage (/usr/share/code/resources/app/out/vs/workbench/services/extensions/node/extensionHostProcess.js:65:21091)\n\tat /usr/share/code/resources/app/out/vs/workbench/services/extensions/node/extensionHostProcess.js:65:17969\n\tat d.fire (/usr/share/code/resources/app/out/vs/workbench/services/extensions/node/extensionHostProcess.js:57:1712)\n\tat v.acceptChunk (/usr/share/code/resources/app/out/vs/workbench/services/extensions/node/extensionHostProcess.js:65:13186)\n\tat /usr/share/code/resources/app/out/vs/workbench/services/extensions/node/extensionHostProcess.js:65:12534\n\tat Socket.w (/usr/share/code/resources/app/out/vs/workbench/services/extensions/node/extensionHostProcess.js:104:13218)\n\tat Socket.emit (events.js:315:20)\n\tat Socket.EventEmitter.emit (domain.js:467:12)\n\tat addChunk (internal/streams/readable.js:309:12)\n\tat readableAddChunk (internal/streams/readable.js:284:9)\n\tat Socket.Readable.push (internal/streams/readable.js:223:10)\n\tat Pipe.onStreamRead (internal/stream_base_commons.js:188:23)"
      },
      "application/vnd.jupyter.widget-view+json": {
       "model_id": "bb0f343b-209c-448f-93e4-9da4c3638c6e",
       "version_major": 2,
       "version_minor": 0
      }
     },
     "metadata": {}
    }
   ],
   "metadata": {}
  },
  {
   "cell_type": "markdown",
   "source": [
    "d) Liste código das Pessoas, idade, nome dos medicamentos que usaram e quantos dias de uso"
   ],
   "metadata": {}
  },
  {
   "cell_type": "code",
   "execution_count": 11,
   "source": [
    "SELECT DISTINCT Pessoa.Id, Pessoa.Age, Drug.Name, Uso.Days_Use\n",
    "        FROM Pessoa, Drug, Uso\n",
    "            WHERE Pessoa.Id = Uso.Person_Id AND\n",
    "                  Drug.Code = Uso.Drug_Code"
   ],
   "outputs": [
    {
     "output_type": "display_data",
     "data": {
      "application/vnd.code.notebook.error": {
       "name": "Error",
       "message": "INVALID mime type, must not be empty or falsy: method",
       "stack": "Error: INVALID mime type, must not be empty or falsy: method\n\tat new Ne (/usr/share/code/resources/app/out/vs/workbench/services/extensions/node/extensionHostProcess.js:78:55540)\n\tat Function.text (/usr/share/code/resources/app/out/vs/workbench/services/extensions/node/extensionHostProcess.js:78:56159)\n\tat i (/usr/share/code/resources/app/extensions/ipynb/dist/ipynbMain.js:1:139081)\n\tat b (/usr/share/code/resources/app/extensions/ipynb/dist/ipynbMain.js:1:143666)\n\tat _ (/usr/share/code/resources/app/extensions/ipynb/dist/ipynbMain.js:1:143962)\n\tat Array.map (<anonymous>)\n\tat /usr/share/code/resources/app/extensions/ipynb/dist/ipynbMain.js:1:145114\n\tat /usr/share/code/resources/app/extensions/ipynb/dist/ipynbMain.js:1:145356\n\tat /usr/share/code/resources/app/extensions/ipynb/dist/ipynbMain.js:1:145363\n\tat Array.map (<anonymous>)\n\tat e.jupyterNotebookModelToNotebookData (/usr/share/code/resources/app/extensions/ipynb/dist/ipynbMain.js:1:144672)\n\tat e.NotebookSerializer.deserializeNotebook (/usr/share/code/resources/app/extensions/ipynb/dist/ipynbMain.js:1:146599)\n\tat _.$dataToNotebook (/usr/share/code/resources/app/out/vs/workbench/services/extensions/node/extensionHostProcess.js:85:211988)\n\tat h._doInvokeHandler (/usr/share/code/resources/app/out/vs/workbench/services/extensions/node/extensionHostProcess.js:89:12819)\n\tat h._invokeHandler (/usr/share/code/resources/app/out/vs/workbench/services/extensions/node/extensionHostProcess.js:89:12503)\n\tat h._receiveRequest (/usr/share/code/resources/app/out/vs/workbench/services/extensions/node/extensionHostProcess.js:89:11107)\n\tat h._receiveOneMessage (/usr/share/code/resources/app/out/vs/workbench/services/extensions/node/extensionHostProcess.js:89:10142)\n\tat /usr/share/code/resources/app/out/vs/workbench/services/extensions/node/extensionHostProcess.js:89:8039\n\tat d.fire (/usr/share/code/resources/app/out/vs/workbench/services/extensions/node/extensionHostProcess.js:57:1712)\n\tat c.fire (/usr/share/code/resources/app/out/vs/workbench/services/extensions/node/extensionHostProcess.js:65:15825)\n\tat /usr/share/code/resources/app/out/vs/workbench/services/extensions/node/extensionHostProcess.js:104:30060\n\tat d.fire (/usr/share/code/resources/app/out/vs/workbench/services/extensions/node/extensionHostProcess.js:57:1712)\n\tat c.fire (/usr/share/code/resources/app/out/vs/workbench/services/extensions/node/extensionHostProcess.js:65:15825)\n\tat r._receiveMessage (/usr/share/code/resources/app/out/vs/workbench/services/extensions/node/extensionHostProcess.js:65:21091)\n\tat /usr/share/code/resources/app/out/vs/workbench/services/extensions/node/extensionHostProcess.js:65:17969\n\tat d.fire (/usr/share/code/resources/app/out/vs/workbench/services/extensions/node/extensionHostProcess.js:57:1712)\n\tat v.acceptChunk (/usr/share/code/resources/app/out/vs/workbench/services/extensions/node/extensionHostProcess.js:65:13186)\n\tat /usr/share/code/resources/app/out/vs/workbench/services/extensions/node/extensionHostProcess.js:65:12534\n\tat Socket.w (/usr/share/code/resources/app/out/vs/workbench/services/extensions/node/extensionHostProcess.js:104:13218)\n\tat Socket.emit (events.js:315:20)\n\tat Socket.EventEmitter.emit (domain.js:467:12)\n\tat addChunk (internal/streams/readable.js:309:12)\n\tat readableAddChunk (internal/streams/readable.js:284:9)\n\tat Socket.Readable.push (internal/streams/readable.js:223:10)\n\tat Pipe.onStreamRead (internal/stream_base_commons.js:188:23)"
      },
      "application/vnd.jupyter.widget-view+json": {
       "model_id": "b6e43e02-6bb1-43f8-91f0-6c2915fc034a",
       "version_major": 2,
       "version_minor": 0
      }
     },
     "metadata": {}
    }
   ],
   "metadata": {}
  },
  {
   "cell_type": "markdown",
   "source": [
    "e) Liste nome dos medicamentos que foram usados por pessoas (sem repetições)"
   ],
   "metadata": {}
  },
  {
   "cell_type": "code",
   "execution_count": 13,
   "source": [
    "SELECT DISTINCT P.Id, D.Name\n",
    "    FROM Pessoa P, Drug D, Uso U\n",
    "        WHERE P.Id = U.Person_Id AND\n",
    "        D.Code = U.Drug_Code"
   ],
   "outputs": [
    {
     "output_type": "display_data",
     "data": {
      "application/vnd.code.notebook.error": {
       "name": "Error",
       "message": "INVALID mime type, must not be empty or falsy: method",
       "stack": "Error: INVALID mime type, must not be empty or falsy: method\n\tat new Ne (/usr/share/code/resources/app/out/vs/workbench/services/extensions/node/extensionHostProcess.js:78:55540)\n\tat Function.text (/usr/share/code/resources/app/out/vs/workbench/services/extensions/node/extensionHostProcess.js:78:56159)\n\tat i (/usr/share/code/resources/app/extensions/ipynb/dist/ipynbMain.js:1:139081)\n\tat b (/usr/share/code/resources/app/extensions/ipynb/dist/ipynbMain.js:1:143666)\n\tat _ (/usr/share/code/resources/app/extensions/ipynb/dist/ipynbMain.js:1:143962)\n\tat Array.map (<anonymous>)\n\tat /usr/share/code/resources/app/extensions/ipynb/dist/ipynbMain.js:1:145114\n\tat /usr/share/code/resources/app/extensions/ipynb/dist/ipynbMain.js:1:145356\n\tat /usr/share/code/resources/app/extensions/ipynb/dist/ipynbMain.js:1:145363\n\tat Array.map (<anonymous>)\n\tat e.jupyterNotebookModelToNotebookData (/usr/share/code/resources/app/extensions/ipynb/dist/ipynbMain.js:1:144672)\n\tat e.NotebookSerializer.deserializeNotebook (/usr/share/code/resources/app/extensions/ipynb/dist/ipynbMain.js:1:146599)\n\tat _.$dataToNotebook (/usr/share/code/resources/app/out/vs/workbench/services/extensions/node/extensionHostProcess.js:85:211988)\n\tat h._doInvokeHandler (/usr/share/code/resources/app/out/vs/workbench/services/extensions/node/extensionHostProcess.js:89:12819)\n\tat h._invokeHandler (/usr/share/code/resources/app/out/vs/workbench/services/extensions/node/extensionHostProcess.js:89:12503)\n\tat h._receiveRequest (/usr/share/code/resources/app/out/vs/workbench/services/extensions/node/extensionHostProcess.js:89:11107)\n\tat h._receiveOneMessage (/usr/share/code/resources/app/out/vs/workbench/services/extensions/node/extensionHostProcess.js:89:10142)\n\tat /usr/share/code/resources/app/out/vs/workbench/services/extensions/node/extensionHostProcess.js:89:8039\n\tat d.fire (/usr/share/code/resources/app/out/vs/workbench/services/extensions/node/extensionHostProcess.js:57:1712)\n\tat c.fire (/usr/share/code/resources/app/out/vs/workbench/services/extensions/node/extensionHostProcess.js:65:15825)\n\tat /usr/share/code/resources/app/out/vs/workbench/services/extensions/node/extensionHostProcess.js:104:30060\n\tat d.fire (/usr/share/code/resources/app/out/vs/workbench/services/extensions/node/extensionHostProcess.js:57:1712)\n\tat c.fire (/usr/share/code/resources/app/out/vs/workbench/services/extensions/node/extensionHostProcess.js:65:15825)\n\tat r._receiveMessage (/usr/share/code/resources/app/out/vs/workbench/services/extensions/node/extensionHostProcess.js:65:21091)\n\tat /usr/share/code/resources/app/out/vs/workbench/services/extensions/node/extensionHostProcess.js:65:17969\n\tat d.fire (/usr/share/code/resources/app/out/vs/workbench/services/extensions/node/extensionHostProcess.js:57:1712)\n\tat v.acceptChunk (/usr/share/code/resources/app/out/vs/workbench/services/extensions/node/extensionHostProcess.js:65:13186)\n\tat /usr/share/code/resources/app/out/vs/workbench/services/extensions/node/extensionHostProcess.js:65:12534\n\tat Socket.w (/usr/share/code/resources/app/out/vs/workbench/services/extensions/node/extensionHostProcess.js:104:13218)\n\tat Socket.emit (events.js:315:20)\n\tat Socket.EventEmitter.emit (domain.js:467:12)\n\tat addChunk (internal/streams/readable.js:309:12)\n\tat readableAddChunk (internal/streams/readable.js:284:9)\n\tat Socket.Readable.push (internal/streams/readable.js:223:10)\n\tat Pipe.onStreamRead (internal/stream_base_commons.js:188:23)"
      },
      "application/vnd.jupyter.widget-view+json": {
       "model_id": "dcbedbd8-19c9-473c-8730-d8f9d160a93e",
       "version_major": 2,
       "version_minor": 0
      }
     },
     "metadata": {}
    }
   ],
   "metadata": {}
  },
  {
   "cell_type": "markdown",
   "source": [
    "f) Liste nome dos medicamentos usados por mais de 2.000 dias (sem repetições)"
   ],
   "metadata": {}
  },
  {
   "cell_type": "code",
   "execution_count": 17,
   "source": [
    "SELECT DISTINCT D.Name\n",
    "    FROM Drug D, Uso U\n",
    "        WHERE D.Code = U.Drug_Code AND\n",
    "        U.Days_Use > 2000"
   ],
   "outputs": [
    {
     "output_type": "display_data",
     "data": {
      "application/vnd.code.notebook.error": {
       "name": "Error",
       "message": "INVALID mime type, must not be empty or falsy: method",
       "stack": "Error: INVALID mime type, must not be empty or falsy: method\n\tat new Ne (/usr/share/code/resources/app/out/vs/workbench/services/extensions/node/extensionHostProcess.js:78:55540)\n\tat Function.text (/usr/share/code/resources/app/out/vs/workbench/services/extensions/node/extensionHostProcess.js:78:56159)\n\tat i (/usr/share/code/resources/app/extensions/ipynb/dist/ipynbMain.js:1:139081)\n\tat b (/usr/share/code/resources/app/extensions/ipynb/dist/ipynbMain.js:1:143666)\n\tat _ (/usr/share/code/resources/app/extensions/ipynb/dist/ipynbMain.js:1:143962)\n\tat Array.map (<anonymous>)\n\tat /usr/share/code/resources/app/extensions/ipynb/dist/ipynbMain.js:1:145114\n\tat /usr/share/code/resources/app/extensions/ipynb/dist/ipynbMain.js:1:145356\n\tat /usr/share/code/resources/app/extensions/ipynb/dist/ipynbMain.js:1:145363\n\tat Array.map (<anonymous>)\n\tat e.jupyterNotebookModelToNotebookData (/usr/share/code/resources/app/extensions/ipynb/dist/ipynbMain.js:1:144672)\n\tat e.NotebookSerializer.deserializeNotebook (/usr/share/code/resources/app/extensions/ipynb/dist/ipynbMain.js:1:146599)\n\tat _.$dataToNotebook (/usr/share/code/resources/app/out/vs/workbench/services/extensions/node/extensionHostProcess.js:85:211988)\n\tat h._doInvokeHandler (/usr/share/code/resources/app/out/vs/workbench/services/extensions/node/extensionHostProcess.js:89:12819)\n\tat h._invokeHandler (/usr/share/code/resources/app/out/vs/workbench/services/extensions/node/extensionHostProcess.js:89:12503)\n\tat h._receiveRequest (/usr/share/code/resources/app/out/vs/workbench/services/extensions/node/extensionHostProcess.js:89:11107)\n\tat h._receiveOneMessage (/usr/share/code/resources/app/out/vs/workbench/services/extensions/node/extensionHostProcess.js:89:10142)\n\tat /usr/share/code/resources/app/out/vs/workbench/services/extensions/node/extensionHostProcess.js:89:8039\n\tat d.fire (/usr/share/code/resources/app/out/vs/workbench/services/extensions/node/extensionHostProcess.js:57:1712)\n\tat c.fire (/usr/share/code/resources/app/out/vs/workbench/services/extensions/node/extensionHostProcess.js:65:15825)\n\tat /usr/share/code/resources/app/out/vs/workbench/services/extensions/node/extensionHostProcess.js:104:30060\n\tat d.fire (/usr/share/code/resources/app/out/vs/workbench/services/extensions/node/extensionHostProcess.js:57:1712)\n\tat c.fire (/usr/share/code/resources/app/out/vs/workbench/services/extensions/node/extensionHostProcess.js:65:15825)\n\tat r._receiveMessage (/usr/share/code/resources/app/out/vs/workbench/services/extensions/node/extensionHostProcess.js:65:21091)\n\tat /usr/share/code/resources/app/out/vs/workbench/services/extensions/node/extensionHostProcess.js:65:17969\n\tat d.fire (/usr/share/code/resources/app/out/vs/workbench/services/extensions/node/extensionHostProcess.js:57:1712)\n\tat v.acceptChunk (/usr/share/code/resources/app/out/vs/workbench/services/extensions/node/extensionHostProcess.js:65:13186)\n\tat /usr/share/code/resources/app/out/vs/workbench/services/extensions/node/extensionHostProcess.js:65:12534\n\tat Socket.w (/usr/share/code/resources/app/out/vs/workbench/services/extensions/node/extensionHostProcess.js:104:13218)\n\tat Socket.emit (events.js:315:20)\n\tat Socket.EventEmitter.emit (domain.js:467:12)\n\tat addChunk (internal/streams/readable.js:309:12)\n\tat readableAddChunk (internal/streams/readable.js:284:9)\n\tat Socket.Readable.push (internal/streams/readable.js:223:10)\n\tat Pipe.onStreamRead (internal/stream_base_commons.js:188:23)"
      },
      "application/vnd.jupyter.widget-view+json": {
       "model_id": "40b8c6a8-3653-48c1-945d-227a7821d226",
       "version_major": 2,
       "version_minor": 0
      }
     },
     "metadata": {}
    }
   ],
   "metadata": {}
  },
  {
   "cell_type": "code",
   "execution_count": null,
   "source": [],
   "outputs": [],
   "metadata": {}
  }
 ],
 "metadata": {
  "kernelspec": {
   "display_name": "SQL",
   "language": "SQL",
   "name": "sql"
  },
  "language_info": {
   "codemirror_mode": "sql",
   "file_extension": ".sql",
   "mimetype": "",
   "name": "SQL",
   "nbconverter_exporter": "",
   "version": ""
  },
  "toc": {
   "base_numbering": 1,
   "nav_menu": {},
   "number_sections": false,
   "sideBar": false,
   "skip_h1_title": false,
   "title_cell": "Table of Contents",
   "title_sidebar": "Contents",
   "toc_cell": false,
   "toc_position": {},
   "toc_section_display": false,
   "toc_window_display": false
  }
 },
 "nbformat": 4,
 "nbformat_minor": 2
}
